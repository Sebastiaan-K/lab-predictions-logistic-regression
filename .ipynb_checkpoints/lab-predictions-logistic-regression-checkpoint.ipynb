{
 "cells": [
  {
   "cell_type": "code",
   "execution_count": 1,
   "id": "32dbcdf3",
   "metadata": {
    "ExecuteTime": {
     "end_time": "2023-11-05T22:23:55.939592Z",
     "start_time": "2023-11-05T22:23:55.936742Z"
    }
   },
   "outputs": [],
   "source": [
    "import pandas as pd\n",
    "import numpy as np\n",
    "\n",
    "import pymysql\n",
    "from sqlalchemy import create_engine\n",
    "\n",
    "import getpass  # To get the password without showing the input"
   ]
  },
  {
   "cell_type": "code",
   "execution_count": 2,
   "id": "22693c3e",
   "metadata": {
    "ExecuteTime": {
     "end_time": "2023-11-05T22:24:09.326817Z",
     "start_time": "2023-11-05T22:23:57.316309Z"
    }
   },
   "outputs": [
    {
     "name": "stdout",
     "output_type": "stream",
     "text": [
      "········\n"
     ]
    }
   ],
   "source": [
    "password = getpass.getpass()"
   ]
  },
  {
   "cell_type": "code",
   "execution_count": 3,
   "id": "71a16c4a",
   "metadata": {
    "ExecuteTime": {
     "end_time": "2023-11-05T22:24:12.573401Z",
     "start_time": "2023-11-05T22:24:12.569846Z"
    }
   },
   "outputs": [],
   "source": [
    "user = 'root'  \n",
    "host = 'localhost'  \n",
    "database = 'sakila'  \n",
    "\n",
    "connection_string = f\"mysql+pymysql://{user}:{password}@{host}/{database}\"\n",
    "\n",
    "engine = create_engine(connection_string)"
   ]
  },
  {
   "cell_type": "code",
   "execution_count": 4,
   "id": "8001a879",
   "metadata": {
    "ExecuteTime": {
     "end_time": "2023-11-05T22:26:52.858254Z",
     "start_time": "2023-11-05T22:26:52.792281Z"
    }
   },
   "outputs": [],
   "source": [
    "# Extract Relevant Information for Prediction Model (X)\n",
    "X_query = \"\"\"\n",
    "SELECT \n",
    "    f.film_id,\n",
    "    f.title,\n",
    "    f.rental_rate,\n",
    "    f.length,\n",
    "    f.rating,\n",
    "    COUNT(r.rental_id) AS rental_count\n",
    "FROM \n",
    "    film f\n",
    "LEFT JOIN inventory i ON f.film_id = i.film_id\n",
    "LEFT JOIN rental r ON i.inventory_id = r.inventory_id\n",
    "GROUP BY \n",
    "    f.film_id;\n",
    "\"\"\"\n",
    "\n",
    "X = pd.read_sql_query(X_query, engine)\n",
    "\n",
    "# Create a Query for the Target Variable (y)\n",
    "y_query = \"\"\"\n",
    "SELECT \n",
    "    f.film_id,\n",
    "    MAX(CASE WHEN r.rental_date BETWEEN '2005-05-01' AND '2005-05-31' THEN 1 ELSE 0 END) AS rented_in_may\n",
    "FROM \n",
    "    film f\n",
    "LEFT JOIN inventory i ON f.film_id = i.film_id\n",
    "LEFT JOIN rental r ON i.inventory_id = r.inventory_id\n",
    "GROUP BY \n",
    "    f.film_id;\n",
    "\"\"\"\n",
    "\n",
    "y = pd.read_sql_query(y_query, engine)\n"
   ]
  },
  {
   "cell_type": "code",
   "execution_count": 5,
   "id": "b3f13683",
   "metadata": {
    "ExecuteTime": {
     "end_time": "2023-11-05T22:27:07.088786Z",
     "start_time": "2023-11-05T22:27:06.087506Z"
    }
   },
   "outputs": [],
   "source": [
    "from sklearn.preprocessing import OneHotEncoder, MinMaxScaler\n",
    "from sklearn.model_selection import train_test_split\n",
    "\n",
    "# Encoding categorical variables\n",
    "encoder = OneHotEncoder()\n",
    "X_encoded = encoder.fit_transform(X[['rating']]).toarray()\n",
    "\n",
    "# Scaling numerical variables\n",
    "scaler = MinMaxScaler()\n",
    "X_scaled = scaler.fit_transform(X[['rental_rate', 'length', 'rental_count']])\n",
    "\n",
    "# Combine encoded and scaled features\n",
    "X_combined = np.hstack((X_scaled, X_encoded))"
   ]
  },
  {
   "cell_type": "code",
   "execution_count": 6,
   "id": "ad135849",
   "metadata": {
    "ExecuteTime": {
     "end_time": "2023-11-05T22:27:12.312358Z",
     "start_time": "2023-11-05T22:27:12.196571Z"
    }
   },
   "outputs": [
    {
     "data": {
      "text/html": [
       "<style>#sk-container-id-1 {color: black;}#sk-container-id-1 pre{padding: 0;}#sk-container-id-1 div.sk-toggleable {background-color: white;}#sk-container-id-1 label.sk-toggleable__label {cursor: pointer;display: block;width: 100%;margin-bottom: 0;padding: 0.3em;box-sizing: border-box;text-align: center;}#sk-container-id-1 label.sk-toggleable__label-arrow:before {content: \"▸\";float: left;margin-right: 0.25em;color: #696969;}#sk-container-id-1 label.sk-toggleable__label-arrow:hover:before {color: black;}#sk-container-id-1 div.sk-estimator:hover label.sk-toggleable__label-arrow:before {color: black;}#sk-container-id-1 div.sk-toggleable__content {max-height: 0;max-width: 0;overflow: hidden;text-align: left;background-color: #f0f8ff;}#sk-container-id-1 div.sk-toggleable__content pre {margin: 0.2em;color: black;border-radius: 0.25em;background-color: #f0f8ff;}#sk-container-id-1 input.sk-toggleable__control:checked~div.sk-toggleable__content {max-height: 200px;max-width: 100%;overflow: auto;}#sk-container-id-1 input.sk-toggleable__control:checked~label.sk-toggleable__label-arrow:before {content: \"▾\";}#sk-container-id-1 div.sk-estimator input.sk-toggleable__control:checked~label.sk-toggleable__label {background-color: #d4ebff;}#sk-container-id-1 div.sk-label input.sk-toggleable__control:checked~label.sk-toggleable__label {background-color: #d4ebff;}#sk-container-id-1 input.sk-hidden--visually {border: 0;clip: rect(1px 1px 1px 1px);clip: rect(1px, 1px, 1px, 1px);height: 1px;margin: -1px;overflow: hidden;padding: 0;position: absolute;width: 1px;}#sk-container-id-1 div.sk-estimator {font-family: monospace;background-color: #f0f8ff;border: 1px dotted black;border-radius: 0.25em;box-sizing: border-box;margin-bottom: 0.5em;}#sk-container-id-1 div.sk-estimator:hover {background-color: #d4ebff;}#sk-container-id-1 div.sk-parallel-item::after {content: \"\";width: 100%;border-bottom: 1px solid gray;flex-grow: 1;}#sk-container-id-1 div.sk-label:hover label.sk-toggleable__label {background-color: #d4ebff;}#sk-container-id-1 div.sk-serial::before {content: \"\";position: absolute;border-left: 1px solid gray;box-sizing: border-box;top: 0;bottom: 0;left: 50%;z-index: 0;}#sk-container-id-1 div.sk-serial {display: flex;flex-direction: column;align-items: center;background-color: white;padding-right: 0.2em;padding-left: 0.2em;position: relative;}#sk-container-id-1 div.sk-item {position: relative;z-index: 1;}#sk-container-id-1 div.sk-parallel {display: flex;align-items: stretch;justify-content: center;background-color: white;position: relative;}#sk-container-id-1 div.sk-item::before, #sk-container-id-1 div.sk-parallel-item::before {content: \"\";position: absolute;border-left: 1px solid gray;box-sizing: border-box;top: 0;bottom: 0;left: 50%;z-index: -1;}#sk-container-id-1 div.sk-parallel-item {display: flex;flex-direction: column;z-index: 1;position: relative;background-color: white;}#sk-container-id-1 div.sk-parallel-item:first-child::after {align-self: flex-end;width: 50%;}#sk-container-id-1 div.sk-parallel-item:last-child::after {align-self: flex-start;width: 50%;}#sk-container-id-1 div.sk-parallel-item:only-child::after {width: 0;}#sk-container-id-1 div.sk-dashed-wrapped {border: 1px dashed gray;margin: 0 0.4em 0.5em 0.4em;box-sizing: border-box;padding-bottom: 0.4em;background-color: white;}#sk-container-id-1 div.sk-label label {font-family: monospace;font-weight: bold;display: inline-block;line-height: 1.2em;}#sk-container-id-1 div.sk-label-container {text-align: center;}#sk-container-id-1 div.sk-container {/* jupyter's `normalize.less` sets `[hidden] { display: none; }` but bootstrap.min.css set `[hidden] { display: none !important; }` so we also need the `!important` here to be able to override the default hidden behavior on the sphinx rendered scikit-learn.org. See: https://github.com/scikit-learn/scikit-learn/issues/21755 */display: inline-block !important;position: relative;}#sk-container-id-1 div.sk-text-repr-fallback {display: none;}</style><div id=\"sk-container-id-1\" class=\"sk-top-container\"><div class=\"sk-text-repr-fallback\"><pre>LogisticRegression()</pre><b>In a Jupyter environment, please rerun this cell to show the HTML representation or trust the notebook. <br />On GitHub, the HTML representation is unable to render, please try loading this page with nbviewer.org.</b></div><div class=\"sk-container\" hidden><div class=\"sk-item\"><div class=\"sk-estimator sk-toggleable\"><input class=\"sk-toggleable__control sk-hidden--visually\" id=\"sk-estimator-id-1\" type=\"checkbox\" checked><label for=\"sk-estimator-id-1\" class=\"sk-toggleable__label sk-toggleable__label-arrow\">LogisticRegression</label><div class=\"sk-toggleable__content\"><pre>LogisticRegression()</pre></div></div></div></div></div>"
      ],
      "text/plain": [
       "LogisticRegression()"
      ]
     },
     "execution_count": 6,
     "metadata": {},
     "output_type": "execute_result"
    }
   ],
   "source": [
    "from sklearn.linear_model import LogisticRegression\n",
    "\n",
    "# Split the data into training and test sets\n",
    "X_train, X_test, y_train, y_test = train_test_split(X_combined, y['rented_in_may'], test_size=0.3, random_state=42)\n",
    "\n",
    "# Create and train the logistic regression model\n",
    "model = LogisticRegression()\n",
    "model.fit(X_train, y_train)"
   ]
  },
  {
   "cell_type": "code",
   "execution_count": 7,
   "id": "afe1fcbc",
   "metadata": {
    "ExecuteTime": {
     "end_time": "2023-11-05T22:27:22.639732Z",
     "start_time": "2023-11-05T22:27:22.627343Z"
    }
   },
   "outputs": [
    {
     "name": "stdout",
     "output_type": "stream",
     "text": [
      "Accuracy: 0.74\n",
      "              precision    recall  f1-score   support\n",
      "\n",
      "           0       0.70      0.54      0.61       114\n",
      "           1       0.75      0.86      0.80       186\n",
      "\n",
      "    accuracy                           0.74       300\n",
      "   macro avg       0.73      0.70      0.71       300\n",
      "weighted avg       0.74      0.74      0.73       300\n",
      "\n"
     ]
    }
   ],
   "source": [
    "from sklearn.metrics import accuracy_score, classification_report\n",
    "\n",
    "y_pred = model.predict(X_test)\n",
    "\n",
    "print(f\"Accuracy: {accuracy_score(y_test, y_pred):.2f}\")\n",
    "print(classification_report(y_test, y_pred))"
   ]
  },
  {
   "cell_type": "markdown",
   "id": "873097bc",
   "metadata": {},
   "source": [
    "# Results"
   ]
  },
  {
   "cell_type": "markdown",
   "id": "7e92c099",
   "metadata": {
    "ExecuteTime": {
     "end_time": "2023-11-05T22:28:54.224714Z",
     "start_time": "2023-11-05T22:28:54.221327Z"
    }
   },
   "source": [
    "The model has a relatively high accuracy of 74%.\n",
    "The model is better at predicting films that were rented.\n",
    "The recall for films not rented is relatively low (0.54).\n",
    "The precision for films not rented is also lower than for rented films, which means there are a fair number of false positives for the not rented category."
   ]
  },
  {
   "cell_type": "code",
   "execution_count": null,
   "id": "89fbe3b1",
   "metadata": {},
   "outputs": [],
   "source": []
  }
 ],
 "metadata": {
  "kernelspec": {
   "display_name": "Python 3 (ipykernel)",
   "language": "python",
   "name": "python3"
  },
  "language_info": {
   "codemirror_mode": {
    "name": "ipython",
    "version": 3
   },
   "file_extension": ".py",
   "mimetype": "text/x-python",
   "name": "python",
   "nbconvert_exporter": "python",
   "pygments_lexer": "ipython3",
   "version": "3.11.5"
  },
  "toc": {
   "base_numbering": 1,
   "nav_menu": {},
   "number_sections": true,
   "sideBar": true,
   "skip_h1_title": false,
   "title_cell": "Table of Contents",
   "title_sidebar": "Contents",
   "toc_cell": false,
   "toc_position": {},
   "toc_section_display": true,
   "toc_window_display": false
  }
 },
 "nbformat": 4,
 "nbformat_minor": 5
}
